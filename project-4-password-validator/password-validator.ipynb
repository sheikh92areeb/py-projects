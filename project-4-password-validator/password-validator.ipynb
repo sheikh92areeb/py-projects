{
 "cells": [
  {
   "cell_type": "markdown",
   "metadata": {},
   "source": [
    "### **Password Validator (Version 1.0)**"
   ]
  },
  {
   "cell_type": "code",
   "execution_count": null,
   "metadata": {},
   "outputs": [],
   "source": [
    "import string\n",
    "\n",
    "print(\"Welcome to the Password Validator!\")\n",
    "print(\"Rules for a strong password:\")\n",
    "print(\"- Must be 8-16 characters long.\")\n",
    "print(\"- Must include at least one uppercase letter.\")\n",
    "print(\"- Must include at least one lowercase letter.\")\n",
    "print(\"- Must include at least one digit.\")\n",
    "print(\"- Must include at least one special character.\")\n",
    "print(\"- Must not contain spaces.\\n\")\n",
    "\n",
    "while True:\n",
    "    min_len = 8\n",
    "    max_len = 16\n",
    "    char_list = string.punctuation\n",
    "\n",
    "    user_password = input(\"Enter Your Password: \")\n",
    "\n",
    "    if len(user_password) < min_len:\n",
    "        print(\"Password must be at least 8 characters long.\")\n",
    "        break\n",
    "\n",
    "    if len(user_password) > max_len:\n",
    "        print(\"Password must not exceed 16 characters.\")\n",
    "        break\n",
    "\n",
    "    if not any( char.isupper() for char in user_password):\n",
    "        print(\"Password must include at least one uppercase letter.\")\n",
    "        break\n",
    "\n",
    "    if not any( char.islower() for char in user_password):\n",
    "        print(\"Password must include at least one lowercase letter.\")\n",
    "        break\n",
    "\n",
    "    if not any( char.isdigit() for char in user_password):\n",
    "        print(\"Password must include at least one digit.\")\n",
    "        break\n",
    "\n",
    "    if not any( char in char_list for char in user_password):\n",
    "        print(\"Password must include at least one special character.\")\n",
    "        break\n",
    "\n",
    "    if \" \" in user_password:\n",
    "        print(\"Password must not contain spaces.\")\n",
    "        break\n",
    "\n",
    "    print(\"Password is Strong\")\n",
    "    break"
   ]
  }
 ],
 "metadata": {
  "kernelspec": {
   "display_name": "Python 3",
   "language": "python",
   "name": "python3"
  },
  "language_info": {
   "codemirror_mode": {
    "name": "ipython",
    "version": 3
   },
   "file_extension": ".py",
   "mimetype": "text/x-python",
   "name": "python",
   "nbconvert_exporter": "python",
   "pygments_lexer": "ipython3",
   "version": "3.13.1"
  }
 },
 "nbformat": 4,
 "nbformat_minor": 2
}
