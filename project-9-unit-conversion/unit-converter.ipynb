{
 "cells": [
  {
   "cell_type": "markdown",
   "metadata": {},
   "source": [
    "### **Unit Converter (Version 1.0)**"
   ]
  },
  {
   "cell_type": "code",
   "execution_count": null,
   "metadata": {},
   "outputs": [],
   "source": [
    "print(\"Welcome! to Unit Converter\")\n",
    "print(\"Unit Converter Menu:\")\n",
    "print(\"1. Kilometers to Miles\")\n",
    "print(\"2. Miles to Kilometers\")\n",
    "print(\"3. Celsius to Fahrenheit\")\n",
    "print(\"4. Fahrenheit to Celsius\")\n",
    "print(\"5. Kilograms to Pounds\")\n",
    "print(\"6. Pounds to Kilograms\")\n",
    "\n",
    "while True:\n",
    "    user = input(\"Enter your Choice (1 to 6) or type 'exit' to quit: \")\n",
    "\n",
    "    if user == 'exit':\n",
    "        print(\"Goodbye! Thanks For Using\")\n",
    "        break\n",
    "\n",
    "    value = int(input(\"Enter Value to Convert: \"))\n",
    "\n",
    "    match user:\n",
    "        case 1:\n",
    "            formula = value * 0.621371\n",
    "            unit = \"Kilometers\"\n",
    "            convert = \"Miles\"\n",
    "        case 2:\n",
    "            formula = value / 0.621371\n",
    "            unit = \"Miles\"\n",
    "            convert = \"Kilometers\"\n",
    "        case 3:\n",
    "            formula = (value * 9/5) + 32 \n",
    "            unit = \"Celsius\"\n",
    "            convert = \"Fahrenheit\"\n",
    "        case 4:    \n",
    "            formula = (value - 32) * 5/9\n",
    "            unit = \"Fahrenheit\"\n",
    "            convert = \"Celsius\"\n",
    "        case 5:\n",
    "            formula =  value * 2.20462    \n",
    "            unit = \"Kilograms\"\n",
    "            convert = \"Pounds\"\n",
    "        case 6:\n",
    "            formula = value / 2.20462    \n",
    "            unit = \"Pounds\"\n",
    "            convert = \"Kilograms\"\n",
    "\n",
    "\n",
    "    print(f\"{value} {unit} is equal to {formula:.2f} {convert}\")\n",
    "\n",
    "    choice = input(\"Do you want to use again? (y/n)\").lower().strip()\n",
    "    if choice != \"y\":\n",
    "        print(\"Goodbye! Thanks For Using\")\n",
    "        break"
   ]
  }
 ],
 "metadata": {
  "language_info": {
   "name": "python"
  }
 },
 "nbformat": 4,
 "nbformat_minor": 2
}
