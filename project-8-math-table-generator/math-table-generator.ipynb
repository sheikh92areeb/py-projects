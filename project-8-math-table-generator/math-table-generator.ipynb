{
 "cells": [
  {
   "cell_type": "markdown",
   "metadata": {},
   "source": [
    "### **Math Table Generator (Version 1.0)**"
   ]
  },
  {
   "cell_type": "code",
   "execution_count": null,
   "metadata": {},
   "outputs": [],
   "source": [
    "print(\"Welcome! to Math Table Generator\")\n",
    "print(\"Enter Number and Generate Tabel\")\n",
    "\n",
    "while True:\n",
    "    user_input = int(input(\"Enter Your Number: \"))\n",
    "    range_input = int(input(\"Enter Table Range: \"))\n",
    "\n",
    "    for i in range(1, (range_input + 1)):\n",
    "        print(f\"{user_input} x {i} = {i * user_input}\")\n",
    "\n",
    "    choice = input(\"Do you want to Generate again? (y/n): \").lower().strip()\n",
    "    if choice != \"y\":\n",
    "        print(\"Goodbye! Thanks for using the program\")    \n",
    "        break"
   ]
  }
 ],
 "metadata": {
  "language_info": {
   "name": "python"
  }
 },
 "nbformat": 4,
 "nbformat_minor": 2
}
