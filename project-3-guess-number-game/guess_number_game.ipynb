{
 "cells": [
  {
   "cell_type": "markdown",
   "metadata": {},
   "source": [
    "### **Guess The Number Game (Version 1.0)**"
   ]
  },
  {
   "cell_type": "code",
   "execution_count": null,
   "metadata": {},
   "outputs": [],
   "source": [
    "import random\n",
    "\n",
    "print(\"Welcome to the Guess the Number game!\")\n",
    "print(\"The computer has chosen a number between 1 and 100. Can you guess it?\")\n",
    "\n",
    "computer_guess = random.randint(1, 100)\n",
    "attempts = 0\n",
    "correct_guess = False\n",
    "\n",
    "while correct_guess == False:\n",
    "    user_guess = int(input(\"Guess The Number: \"))\n",
    "    attempts += 1\n",
    "\n",
    "    if user_guess > computer_guess:\n",
    "        print(\"Too High to guess\")\n",
    "    elif user_guess < computer_guess:\n",
    "        print(\"Too Low to guess\")                \n",
    "    else:\n",
    "        print(f\"Congratulations! You guessed the number in {attempts} attempts.\")\n",
    "        correct_guess = True\n"
   ]
  },
  {
   "cell_type": "markdown",
   "metadata": {},
   "source": [
    "### **Guess The Number Game (Version 2.0)**"
   ]
  },
  {
   "cell_type": "code",
   "execution_count": null,
   "metadata": {},
   "outputs": [],
   "source": [
    "import random\n",
    "\n",
    "print(\"Welcome to the Guess the Number game!\")\n",
    "\n",
    "while True:\n",
    "    computer_guess = random.randint(1, 100)\n",
    "    attempts = 0\n",
    "    correct_guess = False\n",
    "\n",
    "    print(\"The computer has chosen a number between 1 and 100. Can you guess it?\")\n",
    "\n",
    "    while not correct_guess:\n",
    "        user_guess = int(input(\"Guess The Number: \"))\n",
    "        attempts += 1\n",
    "\n",
    "        if user_guess > computer_guess:\n",
    "            print(\"Too High to Guess\")\n",
    "        elif user_guess < computer_guess:\n",
    "            print(\"Too Low to Guess\")\n",
    "        else:\n",
    "            print(f\"Congratulations! You guessed the number in {attempts} attempts.\")        \n",
    "            correct_guess = True\n",
    "\n",
    "    choice = input(\"Do you want to play again? (y/n): \").lower().strip()\n",
    "    if choice != \"y\":\n",
    "        print(\"Thanks for playing! Goodbye!\")\n",
    "        break"
   ]
  },
  {
   "cell_type": "markdown",
   "metadata": {},
   "source": [
    "### **Guess The Number Game (Version 3.0)**"
   ]
  },
  {
   "cell_type": "code",
   "execution_count": null,
   "metadata": {},
   "outputs": [],
   "source": [
    "import random\n",
    "\n",
    "print(\"Welcome to the Guess the Number game!\")\n",
    "\n",
    "while True:\n",
    "    print(\"Choose your Difficulty Level\")\n",
    "    print(\"1. Easy (1 - 25)\")\n",
    "    print(\"2. Medium (1 - 50)\")\n",
    "    print(\"3. Hard (1 - 100)\")\n",
    "\n",
    "    difficulty = input(\"Enter your choice: \").lower().strip()\n",
    "\n",
    "    match difficulty:\n",
    "        case \"easy\":\n",
    "            max_range = 25\n",
    "            attempts = 5\n",
    "        case \"medium\":\n",
    "            max_range = 50\n",
    "            attempts = 7\n",
    "        case \"hard\":\n",
    "            max_range = 100\n",
    "            attempts = 10\n",
    "        case _:\n",
    "            print(\"Invalid choice.\")\n",
    "            continue\n",
    "\n",
    "    computer_choice = random.randint(1, max_range)\n",
    "    user_attempt = 1\n",
    "\n",
    "    print(f\"You selected: {difficulty.capitalize()} mode.\")\n",
    "    print(f\"Great! You have {attempts} attempts to guess a number between 1 and {max_range}.\")\n",
    "\n",
    "    while attempts > 0:\n",
    "        print(f\"Attempts: {attempts}\")\n",
    "        guess = int(input(f\"Attempt {user_attempt}: Enter your Guess: \"))\n",
    "\n",
    "        if guess < 1 or guess > max_range:\n",
    "            print(f\"Please enter a number between 1 and {max_range}.\")\n",
    "            continue\n",
    "\n",
    "        if guess > computer_choice:\n",
    "            print(\"Too High! Try again\")\n",
    "            attempts -= 1\n",
    "            user_attempt +=1\n",
    "        elif guess < computer_choice:\n",
    "            print(\"Too Low! Try again\")\n",
    "            attempts -= 1\n",
    "            user_attempt +=1\n",
    "        else:\n",
    "            print(f\"Correct! 🎉 You guessed the number in {user_attempt} attempts!\")\n",
    "            break\n",
    "    else:\n",
    "        print(f\"Out of attempts! The correct number was {computer_choice}. Better luck next time!\")        \n",
    "\n",
    "    choice = input(\"Do you want to play again? (y/n): \").lower().strip()\n",
    "    if choice != \"y\":\n",
    "        print(\"Thanks for playing! Goodbye!\")\n",
    "        break"
   ]
  }
 ],
 "metadata": {
  "kernelspec": {
   "display_name": "Python 3",
   "language": "python",
   "name": "python3"
  },
  "language_info": {
   "codemirror_mode": {
    "name": "ipython",
    "version": 3
   },
   "file_extension": ".py",
   "mimetype": "text/x-python",
   "name": "python",
   "nbconvert_exporter": "python",
   "pygments_lexer": "ipython3",
   "version": "3.13.1"
  }
 },
 "nbformat": 4,
 "nbformat_minor": 2
}
