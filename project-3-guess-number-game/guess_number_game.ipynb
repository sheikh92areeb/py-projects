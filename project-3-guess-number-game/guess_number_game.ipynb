{
 "cells": [
  {
   "cell_type": "markdown",
   "metadata": {},
   "source": [
    "### **Guess The Number Game (Version 1.0)**"
   ]
  },
  {
   "cell_type": "code",
   "execution_count": null,
   "metadata": {},
   "outputs": [],
   "source": [
    "import random\n",
    "\n",
    "print(\"Welcome to the Guess the Number game!\")\n",
    "print(\"The computer has chosen a number between 1 and 100. Can you guess it?\")\n",
    "\n",
    "computer_guess = random.randint(1, 100)\n",
    "attempts = 0\n",
    "correct_guess = False\n",
    "\n",
    "while correct_guess == False:\n",
    "    user_guess = int(input(\"Guess The Number: \"))\n",
    "    attempts += 1\n",
    "\n",
    "    if user_guess > computer_guess:\n",
    "        print(\"Too High to guess\")\n",
    "    elif user_guess < computer_guess:\n",
    "        print(\"Too Low to guess\")                \n",
    "    else:\n",
    "        print(f\"Congratulations! You guessed the number in {attempts} attempts.\")\n",
    "        correct_guess = True\n"
   ]
  },
  {
   "cell_type": "markdown",
   "metadata": {},
   "source": [
    "### **Guess The Number Game (Version 2.0)**"
   ]
  },
  {
   "cell_type": "code",
   "execution_count": null,
   "metadata": {},
   "outputs": [],
   "source": [
    "import random\n",
    "\n",
    "print(\"Welcome to the Guess the Number game!\")\n",
    "\n",
    "while True:\n",
    "    computer_guess = random.randint(1, 100)\n",
    "    attempts = 0\n",
    "    correct_guess = False\n",
    "\n",
    "    print(\"The computer has chosen a number between 1 and 100. Can you guess it?\")\n",
    "\n",
    "    while not correct_guess:\n",
    "        user_guess = int(input(\"Guess The Number: \"))\n",
    "        attempts += 1\n",
    "\n",
    "        if user_guess > computer_guess:\n",
    "            print(\"Too High to Guess\")\n",
    "        elif user_guess < computer_guess:\n",
    "            print(\"Too Low to Guess\")\n",
    "        else:\n",
    "            print(f\"Congratulations! You guessed the number in {attempts} attempts.\")        \n",
    "            correct_guess = True\n",
    "\n",
    "    choice = input(\"Do you want to play again? (y/n): \").lower().strip()\n",
    "    if choice != \"y\":\n",
    "        print(\"Thanks for playing! Goodbye!\")\n",
    "        break"
   ]
  }
 ],
 "metadata": {
  "kernelspec": {
   "display_name": "Python 3",
   "language": "python",
   "name": "python3"
  },
  "language_info": {
   "codemirror_mode": {
    "name": "ipython",
    "version": 3
   },
   "file_extension": ".py",
   "mimetype": "text/x-python",
   "name": "python",
   "nbconvert_exporter": "python",
   "pygments_lexer": "ipython3",
   "version": "3.13.1"
  }
 },
 "nbformat": 4,
 "nbformat_minor": 2
}
