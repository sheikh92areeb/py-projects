{
 "cells": [
  {
   "cell_type": "markdown",
   "metadata": {},
   "source": [
    "### **Login System (Version 1.0)**"
   ]
  },
  {
   "cell_type": "code",
   "execution_count": null,
   "metadata": {},
   "outputs": [],
   "source": [
    "print(\"Welcome to the Simple Login System!\")\n",
    "\n",
    "user_name = \"areeb\"\n",
    "password = \"12345\"\n",
    "\n",
    "user_name_input = input(\"Enter your username: \").lower().strip()\n",
    "\n",
    "if user_name == user_name_input:\n",
    "    password_input = input(\"Enter your password:\").strip()\n",
    "    if password == password_input:\n",
    "        print(f\"Welcome! {user_name}\")\n",
    "    else:\n",
    "         print(\"Incorrect Password\")   \n",
    "else:\n",
    "    print(\"User does not exist\")"
   ]
  }
 ],
 "metadata": {
  "language_info": {
   "name": "python"
  }
 },
 "nbformat": 4,
 "nbformat_minor": 2
}
