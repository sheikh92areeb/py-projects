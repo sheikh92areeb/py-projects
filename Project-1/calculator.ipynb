{
 "cells": [
  {
   "cell_type": "markdown",
   "metadata": {},
   "source": [
    "# **Simple Calculator with Basic Structure of Code**"
   ]
  },
  {
   "cell_type": "code",
   "execution_count": null,
   "metadata": {},
   "outputs": [],
   "source": [
    "print(\"Simple Calculator\")\n",
    "print(\"Perform your Calculation here\")\n",
    "print(\"Supported Operators are +, -, *, /\")\n",
    "\n",
    "n = int(input(\"Enter the first number: \"))\n",
    "m = int(input(\"Enter the second number: \"))\n",
    "opr = input(\"Enter the operator: \")\n",
    "\n",
    "if opr == \"+\":\n",
    "    print(f\"The Addition of {n} and {m} is {n + m}\")\n",
    "elif opr == \"-\":\n",
    "    print(f\"The Subtraction of {n} and {m} is {n - m}\")\n",
    "elif opr == \"*\":\n",
    "    print(f\"The Multiplication of {n} and {m} is {n * m}\")\n",
    "elif opr == \"/\":\n",
    "    print(f\"The division of {n} and {m} is {n / m}\")\n",
    "else:\n",
    "    print(\"Invalid Operator\")"
   ]
  }
 ],
 "metadata": {
  "kernelspec": {
   "display_name": "Python 3",
   "language": "python",
   "name": "python3"
  },
  "language_info": {
   "codemirror_mode": {
    "name": "ipython",
    "version": 3
   },
   "file_extension": ".py",
   "mimetype": "text/x-python",
   "name": "python",
   "nbconvert_exporter": "python",
   "pygments_lexer": "ipython3",
   "version": "3.13.1"
  }
 },
 "nbformat": 4,
 "nbformat_minor": 2
}
