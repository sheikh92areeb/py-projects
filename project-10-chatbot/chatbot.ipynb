{
 "cells": [
  {
   "cell_type": "markdown",
   "metadata": {},
   "source": [
    "### **Chatbot (Version 1.0)**"
   ]
  },
  {
   "cell_type": "code",
   "execution_count": null,
   "metadata": {},
   "outputs": [],
   "source": [
    "from datetime import datetime\n",
    "\n",
    "print(\"Welcome! to Our Chatbot App\")\n",
    "print(\"Start Conversation.. or type 'exit/bye' to quit: \")\n",
    "\n",
    "greetings = [\"hi\", \"hello\", \"hey\", \"hy\"]\n",
    "compliments = [\"good\", \"thanks\", \"awesome\"]\n",
    "response = \"\"\n",
    "\n",
    "while True:\n",
    "    user = input(\"User: \").lower().strip()\n",
    "\n",
    "    if user == 'exit' or \"bye\" in user:\n",
    "        print(\"Goodbye! Have a great day!\")\n",
    "        break\n",
    "\n",
    "    # Fetch current time dynamically\n",
    "    now = datetime.now()\n",
    "    current_date = now.strftime(\"%d-%b-%y\")\n",
    "    current_time = now.strftime(\"%I:%M:%S %p\")\n",
    "    current_day = now.strftime(\"%A\")\n",
    "\n",
    "    if user in greetings:\n",
    "        response = \"Hello! How can I assist you today?\"\n",
    "    elif user in compliments:\n",
    "        response = \"You're welcome! 😊 If you have more questions, I will assist you.\"\n",
    "    elif \"date\" in user:\n",
    "        response = f\"Today's date is {current_date}.\"\n",
    "    elif \"day\" in user:\n",
    "        response = f\"Today is {current_day}.\"\n",
    "    elif \"time\" in user:\n",
    "        response = f\"Current Time is {current_time}.\"\n",
    "    else:\n",
    "        response = \"I'm sorry, I didn't understand that. Can you please rephrase?\"    \n",
    "\n",
    "    print(f\"Bot: {response}\")\n"
   ]
  }
 ],
 "metadata": {
  "language_info": {
   "name": "python"
  }
 },
 "nbformat": 4,
 "nbformat_minor": 2
}
