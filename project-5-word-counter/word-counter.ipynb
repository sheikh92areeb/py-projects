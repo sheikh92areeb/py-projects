{
 "cells": [
  {
   "cell_type": "markdown",
   "metadata": {},
   "source": [
    "### **Word Counter (Version 1.0)**"
   ]
  },
  {
   "cell_type": "code",
   "execution_count": null,
   "metadata": {},
   "outputs": [],
   "source": [
    "print(\"Welcome! to the Word Counter\")\n",
    "\n",
    "user_word = input(\"Enter Your word or Sentence Here: \").strip()\n",
    "\n",
    "words = 0\n",
    "total_char = 0\n",
    "char_ws = 0\n",
    "space = 0\n",
    "\n",
    "words = len(user_word.split(\" \"))\n",
    "total_char = len(user_word)\n",
    "char_ws = len(user_word.replace(\" \",\"\"))\n",
    "space = total_char - char_ws\n",
    "\n",
    "print(f\"Your sentence contains {words} words.\")\n",
    "print(f\"Your sentence contains {total_char} Total characters.\")\n",
    "print(f\"Your sentence contains {char_ws} characters without spaces.\")\n",
    "print(f\"Your sentence contains {space} spaces.\")"
   ]
  },
  {
   "cell_type": "markdown",
   "metadata": {},
   "source": [
    "### **Word Counter (Version 2.0)**"
   ]
  },
  {
   "cell_type": "code",
   "execution_count": null,
   "metadata": {},
   "outputs": [],
   "source": [
    "import string\n",
    "\n",
    "print(\"Welcome! to the Word Counter\")\n",
    "\n",
    "while True:\n",
    "    special_char = string.punctuation\n",
    "\n",
    "    user_sentence = input(\"Enter Your Word or Sentence Here: \").strip()\n",
    "\n",
    "    if not user_sentence:\n",
    "        print(\"Error: You entered an empty sentence!\")\n",
    "        continue\n",
    "\n",
    "    words = len(user_sentence.split())\n",
    "    total_char = len(user_sentence)\n",
    "    char_ws = len(user_sentence.replace(\" \", \"\"))\n",
    "    spaces = total_char - char_ws\n",
    "    punctuation_char = 0\n",
    "\n",
    "    for i in user_sentence:\n",
    "        if i in special_char:\n",
    "            punctuation_char += 1\n",
    "\n",
    "    print(f\"Your Sentence contains {words} word{'s' if words != 1 else ''}.\")\n",
    "    print(f\"Your Sentence contains {total_char} total character{'s' if total_char != 1 else ''}.\")\n",
    "    print(f\"Your Sentence contains {char_ws} character{'s' if char_ws != 1 else ''} without space.\")\n",
    "    print(f\"Your Sentence contains {spaces} space{'s' if spaces != 1 else ''}.\")\n",
    "    print(f\"Your Sentence contains {punctuation_char} special charecter{'s' if punctuation_char != 1 else ''}.\")\n",
    "    break"
   ]
  }
 ],
 "metadata": {
  "kernelspec": {
   "display_name": "Python 3",
   "language": "python",
   "name": "python3"
  },
  "language_info": {
   "codemirror_mode": {
    "name": "ipython",
    "version": 3
   },
   "file_extension": ".py",
   "mimetype": "text/x-python",
   "name": "python",
   "nbconvert_exporter": "python",
   "pygments_lexer": "ipython3",
   "version": "3.13.1"
  }
 },
 "nbformat": 4,
 "nbformat_minor": 2
}
