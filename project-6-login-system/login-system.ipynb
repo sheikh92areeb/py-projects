{
 "cells": [
  {
   "cell_type": "markdown",
   "metadata": {},
   "source": [
    "### **Login System (Version 1.0)**"
   ]
  },
  {
   "cell_type": "code",
   "execution_count": null,
   "metadata": {},
   "outputs": [],
   "source": [
    "print(\"Welcome to the Simple Login System!\")\n",
    "\n",
    "user_name = \"areeb\"\n",
    "password = \"12345\"\n",
    "\n",
    "user_name_input = input(\"Enter your username: \").lower().strip()\n",
    "\n",
    "if user_name == user_name_input:\n",
    "    password_input = input(\"Enter your password:\").strip()\n",
    "    if password == password_input:\n",
    "        print(f\"Welcome! {user_name}\")\n",
    "    else:\n",
    "         print(\"Incorrect Password\")   \n",
    "else:\n",
    "    print(\"User does not exist\")"
   ]
  },
  {
   "cell_type": "markdown",
   "metadata": {},
   "source": [
    "### **Login System (Version 2.0)**"
   ]
  },
  {
   "cell_type": "code",
   "execution_count": null,
   "metadata": {},
   "outputs": [],
   "source": [
    "print(\"Welcome to the Simple Login System!\")\n",
    "\n",
    "stored_name = \"areeb\"\n",
    "stored_password = \"12345\"\n",
    "attemps = 3\n",
    "\n",
    "while True:\n",
    "    if attemps < 3:\n",
    "        print(f\"Attemps left: {attemps}\")\n",
    "        \n",
    "    user_input = input(\"Enter Your Username (or type 'exit' to quit): \").strip()\n",
    "\n",
    "    if user_input.lower() == 'exit':\n",
    "        print(\"Goodbye! Thanks for using the system.\")\n",
    "        break\n",
    "\n",
    "    if user_input == stored_name:\n",
    "        password_input = input(\"Enter Your Password: \").strip()\n",
    "\n",
    "        if password_input == stored_password:\n",
    "            print(f\"Welcome! {stored_name.capitalize()}\")\n",
    "            break\n",
    "        else:\n",
    "            print(\"Incorrect Password\")    \n",
    "            attemps -= 1\n",
    "    else:\n",
    "        print(\"User does not Exist\")        \n",
    "        attemps -= 1\n",
    "\n",
    "    if attemps == 0:\n",
    "        print(\"Too many failed attempts. Try again later.\")\n",
    "        break    "
   ]
  }
 ],
 "metadata": {
  "language_info": {
   "name": "python"
  }
 },
 "nbformat": 4,
 "nbformat_minor": 2
}
