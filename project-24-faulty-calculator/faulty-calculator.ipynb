{
 "cells": [
  {
   "cell_type": "markdown",
   "metadata": {},
   "source": [
    "### **Faulty Calculator (Version 1.0)**"
   ]
  },
  {
   "cell_type": "code",
   "execution_count": null,
   "metadata": {},
   "outputs": [],
   "source": [
    "import random\n",
    "\n",
    "random_time = random.randint(1,100)\n",
    "\n",
    "m = int(input(\"Enter First Number: \"))\n",
    "n = int(input(\"Enter Second Number: \"))\n",
    "o = input(\"Choose Operation (+,-,*,/): \").strip()\n",
    "\n",
    "if random_time <= 10:\n",
    "    if o == \"+\":\n",
    "        print(m - n)\n",
    "    elif o == \"-\":\n",
    "        print(m * n)\n",
    "    elif o == \"*\":\n",
    "        print(m / n)\n",
    "    elif o == \"/\":\n",
    "        print(m + n)\n",
    "else:\n",
    "    if o == \"+\":\n",
    "        print(m + n)\n",
    "    elif o == \"-\":\n",
    "        print(m - n)\n",
    "    elif o == \"*\":\n",
    "        print(m * n)\n",
    "    elif o == \"/\":\n",
    "        print(m / n)"
   ]
  },
  {
   "cell_type": "markdown",
   "metadata": {},
   "source": [
    "### **Faulty Calculator (Version 2.0)**"
   ]
  },
  {
   "cell_type": "code",
   "execution_count": null,
   "metadata": {},
   "outputs": [],
   "source": [
    "import random\n",
    "\n",
    "def faulty(m,n,o):\n",
    "    if o == \"+\":\n",
    "        return m - n\n",
    "    elif o == \"-\":\n",
    "        return m * n\n",
    "    elif o == \"*\":\n",
    "        return m / n\n",
    "    elif o == \"/\":\n",
    "        return m + n\n",
    "\n",
    "def calculate(m,n,o):\n",
    "    if o == \"+\":\n",
    "        return m + n\n",
    "    elif o == \"-\":\n",
    "        return m - n\n",
    "    elif o == \"*\":\n",
    "        return m * n\n",
    "    elif o == \"/\":\n",
    "        return m / n\n",
    "\n",
    "while True:\n",
    "    random_time = random.randint(1,100)\n",
    "\n",
    "    m = int(input(\"Enter First Number: \"))\n",
    "    n = int(input(\"Enter Second Number: \"))\n",
    "    o = input(\"Choose Operation (+,-,*,/): \").strip()\n",
    "\n",
    "    if random_time <= 10:\n",
    "        result = faulty(m,n,o)\n",
    "    else:\n",
    "        result = calculate(m,n,o)\n",
    "\n",
    "    print(f\"Result is {result}\")\n",
    "\n",
    "    while True:\n",
    "        choise = input(\"Do you want to use again (y/n): \").strip().lower()\n",
    "        if choise in [\"y\", \"n\"]:\n",
    "            break\n",
    "        else:\n",
    "            print(\"type 'y' for yes or 'n' for no\")\n",
    "            continue\n",
    "\n",
    "    if choise != \"y\":\n",
    "        print(\"Goodbye! Thanks for using\")\n",
    "        break"
   ]
  },
  {
   "cell_type": "markdown",
   "metadata": {},
   "source": [
    "### **Faulty Calculator (Version 3.0)**"
   ]
  },
  {
   "cell_type": "code",
   "execution_count": null,
   "metadata": {},
   "outputs": [],
   "source": [
    "import random\n",
    "\n",
    "faultyOps = { \"+\": \"-\", \"-\": \"/\", \"*\": \"+\", \"/\": \"*\" }\n",
    "correctOps = { \"+\": \"+\", \"-\": \"-\", \"*\": \"*\", \"/\": \"/\" }\n",
    "\n",
    "while True:\n",
    "    random_time = random.randint(1,100)\n",
    "\n",
    "    m = int(input(\"Enter First Number: \"))\n",
    "    n = int(input(\"Enter Second Number: \"))\n",
    "    o = input(\"Choose Operation (+,-,*,/): \").strip()\n",
    "\n",
    "    ops = faultyOps[o] if random_time <= 10 else correctOps[o]\n",
    "    result = eval(f\"{m} {ops} {n}\")\n",
    "\n",
    "    print(f\"Result is {result}\")\n",
    "\n",
    "    while True:\n",
    "        choise = input(\"Do you want to use again (y/n): \").strip().lower()\n",
    "        if choise in [\"y\", \"n\"]:\n",
    "            break\n",
    "        else:\n",
    "            print(\"type 'y' for yes or 'n' for no\")\n",
    "            continue\n",
    "\n",
    "    if choise != \"y\":\n",
    "        print(\"Goodbye! Thanks for using\")\n",
    "        break"
   ]
  }
 ],
 "metadata": {
  "language_info": {
   "name": "python"
  }
 },
 "nbformat": 4,
 "nbformat_minor": 2
}
