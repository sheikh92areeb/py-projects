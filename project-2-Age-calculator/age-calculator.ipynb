{
 "cells": [
  {
   "cell_type": "markdown",
   "metadata": {},
   "source": [
    "### **Age Calculator (Version 1.0)**"
   ]
  },
  {
   "cell_type": "code",
   "execution_count": null,
   "metadata": {},
   "outputs": [],
   "source": [
    "from datetime import datetime\n",
    "\n",
    "# Get the current year\n",
    "current_year = datetime.now().year\n",
    "\n",
    "print(\"Welcome to the Age Calculator!\")\n",
    "print(\"Calculate your age by entering your birth year.\")\n",
    "\n",
    "birth_year = int(input(\"Enter your birth year: \")) \n",
    "\n",
    "if birth_year > current_year:\n",
    "    print(\"Future year! You are not born yet.\")\n",
    "elif birth_year == current_year:\n",
    "    print(\"Same year! You are a newborn.\")   \n",
    "else:\n",
    "    age = current_year - birth_year\n",
    "    print(f\"You are {age} years old.\") \n"
   ]
  },
  {
   "cell_type": "markdown",
   "metadata": {},
   "source": [
    "### **Age Calculator (Version 2.0)**"
   ]
  },
  {
   "cell_type": "code",
   "execution_count": null,
   "metadata": {},
   "outputs": [],
   "source": [
    "from datetime import datetime\n",
    "\n",
    "# Get the current year\n",
    "current_year = datetime.now().year\n",
    "\n",
    "print(\"Welcome to the Age Calculator!\")\n",
    "print(\"Calculate your age by entering your birth year.\")\n",
    "\n",
    "birth_year = int(input(\"Enter your birth year: \")) \n",
    "\n",
    "if birth_year > current_year:\n",
    "    print(\"Future year! You are not born yet.\")\n",
    "elif birth_year == current_year:\n",
    "    print(\"Same year! You are a newborn.\")   \n",
    "elif birth_year < 1900:\n",
    "    print(\"Too old year! Enter a valid year.\")    \n",
    "else:\n",
    "    age = current_year - birth_year\n",
    "    print(f\"You are {age} years old.\") \n",
    "    if age >= 100:\n",
    "        print(\"Wow, you are over a century old!\")\n",
    "    elif age >= 18:\n",
    "        print(\"You are 18+.\")\n",
    "    else:\n",
    "        print(\"You are under 18.\")    "
   ]
  }
 ],
 "metadata": {
  "kernelspec": {
   "display_name": "Python 3",
   "language": "python",
   "name": "python3"
  },
  "language_info": {
   "codemirror_mode": {
    "name": "ipython",
    "version": 3
   },
   "file_extension": ".py",
   "mimetype": "text/x-python",
   "name": "python",
   "nbconvert_exporter": "python",
   "pygments_lexer": "ipython3",
   "version": "3.13.1"
  }
 },
 "nbformat": 4,
 "nbformat_minor": 2
}
