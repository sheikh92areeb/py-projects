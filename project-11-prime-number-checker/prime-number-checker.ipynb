{
 "cells": [
  {
   "cell_type": "markdown",
   "metadata": {},
   "source": [
    "### **Prime Number Checker (Version 1.0)**"
   ]
  },
  {
   "cell_type": "code",
   "execution_count": null,
   "metadata": {},
   "outputs": [],
   "source": [
    "print(\"Welcome! to Prime Number Checker\")\n",
    "\n",
    "while True:\n",
    "    user = input(\"Enter a number or type 'exit' to quit: \").strip().lower()\n",
    "    count = 0\n",
    "\n",
    "    if user == 'exit':\n",
    "        print(\"Goodbye! Thanks For Using\")\n",
    "        break\n",
    "\n",
    "    if int(user) < 1:\n",
    "        print(\"Please! Enter positive Number\")\n",
    "        continue\n",
    "    elif int(user) > 1:\n",
    "        for i in range(2,int(user)):\n",
    "            if int(user) % i == 0:\n",
    "                count += 1\n",
    "\n",
    "        if count > 0:\n",
    "            print(f\"{user} is not Prime Number\")\n",
    "        else:\n",
    "            print(f\"{user} is Prime Number\")            \n",
    "    else:\n",
    "        print(\"1 is not a prime number because it has only one factor.\")\n",
    "\n",
    "    choice = input(\"Do you want to use again? (y/n)\").strip().lower()    \n",
    "    if choice != \"y\":\n",
    "        print(\"Goodbye! Thanks For Using\")\n",
    "        break"
   ]
  }
 ],
 "metadata": {
  "language_info": {
   "name": "python"
  }
 },
 "nbformat": 4,
 "nbformat_minor": 2
}
